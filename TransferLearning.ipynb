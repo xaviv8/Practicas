{
 "cells": [
  {
   "cell_type": "markdown",
   "metadata": {},
   "source": [
    "# LAB 7: Transfer Learning - Ejemplo"
   ]
  },
  {
   "cell_type": "markdown",
   "metadata": {},
   "source": [
    "**Ingeniería Electrónica**\n",
    "\n",
    "**Inteligencia Artificial**\n",
    "\n",
    "**15/06/2022**"
   ]
  },
  {
   "cell_type": "markdown",
   "metadata": {},
   "source": [
    "**Transferir el aprendizaje** permite tomar un pequeño conjunto de datos y producir un modelo preciso. Este método utiliza grandes redes que fueron entrenadas durante mucho tiempo en grandes conjuntos de datos, transfiriendo ese conocimiento a nuestra propia red. Para esto utilizaremos la API de [Weights & Biases](https://wandb.ai/site), por lo que primero es necesario registrarse en W&B y crear un proyecto con el nombre \"transfer_learn\".\n",
    "\n",
    "Reutilizaremos una red para detección de alimentos (_groceries_), usando el script `groceries.py` que desarga el dataset de [Freiburg](https://github.com/PhilJd/freiburg_groceries_dataset)"
   ]
  },
  {
   "cell_type": "code",
   "execution_count": null,
   "metadata": {
    "id": "Id3C60eT3VD3"
   },
   "outputs": [],
   "source": [
    "#!pip install wandb -qqq\n",
    "import wandb"
   ]
  },
  {
   "cell_type": "code",
   "execution_count": null,
   "metadata": {
    "colab": {
     "base_uri": "https://localhost:8080/"
    },
    "id": "go9N3OKz3ex_",
    "outputId": "bf33257e-78d3-4ebe-958d-744f80ae41c0"
   },
   "outputs": [],
   "source": [
    "# Iniciar sesión en su cuenta W&B\n",
    "wandb.login()"
   ]
  },
  {
   "cell_type": "code",
   "execution_count": null,
   "metadata": {
    "id": "gwz0nyX-3nSO"
   },
   "outputs": [],
   "source": [
    "import os\n",
    "os.environ[\"WANDB_ENTITY\"] = \"mlclass\""
   ]
  },
  {
   "cell_type": "code",
   "execution_count": null,
   "metadata": {
    "id": "hsqusfbV3ofX"
   },
   "outputs": [],
   "source": [
    "import keras\n",
    "import wandb\n",
    "from wandb.keras import WandbCallback\n",
    "from keras.models import Sequential\n",
    "from keras.layers import Dense, Flatten\n",
    "from keras.applications.resnet import ResNet50, decode_predictions, preprocess_input\n",
    "from keras.utils import np_utils\n",
    "import groceries\n",
    "import matplotlib.pyplot as plt"
   ]
  },
  {
   "cell_type": "code",
   "execution_count": null,
   "metadata": {
    "id": "MypgLlPIKTOh"
   },
   "outputs": [],
   "source": [
    "(x_train, y_train_raw), (x_test, y_test_raw), class_names = groceries.load_data()"
   ]
  },
  {
   "cell_type": "code",
   "execution_count": null,
   "metadata": {
    "colab": {
     "base_uri": "https://localhost:8080/",
     "height": 286
    },
    "id": "1xn3RnxiKpUd",
    "outputId": "3d5fbee0-7577-4391-b565-9c67313d8278"
   },
   "outputs": [],
   "source": [
    "# echar un vistazo a los tipos de imágenes que estamos tratando\n",
    "plt.imshow(x_train[50].astype(int))"
   ]
  },
  {
   "cell_type": "code",
   "execution_count": null,
   "metadata": {
    "colab": {
     "base_uri": "https://localhost:8080/"
    },
    "id": "hhesh59cKygb",
    "outputId": "f676214a-81ab-4ea9-9956-b84f26e68073"
   },
   "outputs": [],
   "source": [
    "# Imprime las clases objetivo\n",
    "class_names"
   ]
  },
  {
   "cell_type": "code",
   "execution_count": null,
   "metadata": {
    "colab": {
     "base_uri": "https://localhost:8080/",
     "height": 320
    },
    "id": "wG7xbYeTK2vT",
    "outputId": "89750f24-7cd4-42f7-c87f-e656a51392a1"
   },
   "outputs": [],
   "source": [
    "# comprobar qué tan balanceada es la distribución de clases\n",
    "plt.hist(y_train_raw)"
   ]
  },
  {
   "cell_type": "code",
   "execution_count": null,
   "metadata": {
    "id": "65nQRy4BK7eG"
   },
   "outputs": [],
   "source": [
    "# Codificar las salidas\n",
    "y_train = keras.utils.np_utils.to_categorical(y_train_raw)\n",
    "y_test = keras.utils.np_utils.to_categorical(y_test_raw)"
   ]
  },
  {
   "cell_type": "code",
   "execution_count": null,
   "metadata": {
    "id": "PxBlOoXSMalY"
   },
   "outputs": [],
   "source": [
    "# Cargar ResNet50 entrenada en imagenet\n",
    "resnet_model = ResNet50(weights=\"imagenet\")"
   ]
  },
  {
   "cell_type": "code",
   "execution_count": null,
   "metadata": {
    "colab": {
     "base_uri": "https://localhost:8080/"
    },
    "id": "OjZnpFruMeJh",
    "outputId": "5f0e32c2-1cbc-4b87-c277-0fa4027d1b0b"
   },
   "outputs": [],
   "source": [
    "resnet_model.summary()"
   ]
  },
  {
   "cell_type": "code",
   "execution_count": null,
   "metadata": {
    "colab": {
     "base_uri": "https://localhost:8080/"
    },
    "id": "46v9_k-1MiwG",
    "outputId": "c670fac7-db5f-49cc-9298-3adf6b5207d6"
   },
   "outputs": [],
   "source": [
    "from keras.preprocessing import image\n",
    "import numpy as np\n",
    "img = image.load_img('IMAGEN.jpg', target_size=(224, 224))\n",
    "x = image.img_to_array(img)\n",
    "x = np.expand_dims(x, axis=0)\n",
    "x = preprocess_input(x)\n",
    "preds = resnet_model.predict(x)\n",
    "print('Predicted:', decode_predictions(preds, top=3)[0])"
   ]
  },
  {
   "cell_type": "code",
   "execution_count": null,
   "metadata": {
    "id": "pPoqTKh-Nn8e"
   },
   "outputs": [],
   "source": [
    "# Deberíamos preprocesar las imágenes de la misma manera que se preprocesaron las imágenes resnet\n",
    "x_train_preprocessed = preprocess_input(x_train)\n",
    "x_test_preprocessed = preprocess_input(x_test)"
   ]
  },
  {
   "cell_type": "code",
   "execution_count": null,
   "metadata": {
    "colab": {
     "base_uri": "https://localhost:8080/"
    },
    "id": "u0c4HkTiNqPH",
    "outputId": "afa31568-09aa-48df-bdce-589ce34f8c19"
   },
   "outputs": [],
   "source": [
    "# Crear un nuevo modelo que sea ResNet50 menos la última capa\n",
    "last_layer = resnet_model.get_layer(\"avg_pool\")\n",
    "\n",
    "resnet_layers = keras.Model(inputs=resnet_model.inputs, outputs=last_layer.output)\n",
    "resnet_layers.summary()"
   ]
  },
  {
   "cell_type": "code",
   "execution_count": null,
   "metadata": {
    "colab": {
     "base_uri": "https://localhost:8080/"
    },
    "id": "4JIEtekqRZ45",
    "outputId": "f6d115d4-dd65-4049-9659-2de89f16b647"
   },
   "outputs": [],
   "source": [
    "# Podemos unir directamente los modelos\n",
    "\n",
    "new_model=Sequential()\n",
    "new_model.add(resnet_layers)\n",
    "new_model.add(Dense(25, activation=\"sigmoid\"))\n",
    "\n",
    "new_model.layers[0].trainable=False\n",
    "\n",
    "new_model.compile(loss=\"categorical_crossentropy\", optimizer=\"adam\", metrics=[\"accuracy\"])\n",
    "\n",
    "new_model.summary()"
   ]
  },
  {
   "cell_type": "code",
   "execution_count": null,
   "metadata": {
    "colab": {
     "base_uri": "https://localhost:8080/",
     "height": 176
    },
    "id": "QHAQJ9YkRnXI",
    "outputId": "bd55cf7d-8192-4c0b-8313-1736e65ac97a"
   },
   "outputs": [],
   "source": [
    "# Podemos permitir que algunas de las capas de resnet cambien mientras entrenamos.\n",
    "\n",
    "new_model.layers[0].trainable = True\n",
    "\n",
    "# We let the last 3 blocks train\n",
    "for layer in new_model.layers[0].layers[:-11]:\n",
    "    layer.trainable = False\n",
    "for layer in new_model.layers[0].layers[-11:]:\n",
    "    layer.trainable = True\n",
    "    \n",
    "new_model.compile(loss=\"categorical_crossentropy\", optimizer=\"adam\", metrics=[\"accuracy\"])\n",
    "\n",
    "#wandb.init(project=\"transfer_learn\")\n",
    "#wandb.init(project=\"transfer_learn\", settings=wandb.Settings(start_method=\"thread\"))\n",
    "wandb.init(project=\"transfer_learn\", entity=\"USUARIO\")\n",
    "new_model.fit(x_train_preprocessed, y_train, epochs=50, validation_data=(x_test_preprocessed, y_test), callbacks=[WandbCallback()])"
   ]
  }
 ],
 "metadata": {
  "colab": {
   "name": "TransferLearning.ipynb",
   "provenance": []
  },
  "gpuClass": "standard",
  "kernelspec": {
   "display_name": "Python 3 (ipykernel)",
   "language": "python",
   "name": "python3"
  },
  "language_info": {
   "codemirror_mode": {
    "name": "ipython",
    "version": 3
   },
   "file_extension": ".py",
   "mimetype": "text/x-python",
   "name": "python",
   "nbconvert_exporter": "python",
   "pygments_lexer": "ipython3",
   "version": "3.9.7"
  }
 },
 "nbformat": 4,
 "nbformat_minor": 1
}
